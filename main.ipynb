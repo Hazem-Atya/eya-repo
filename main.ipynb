{
 "cells": [
  {
   "cell_type": "code",
   "execution_count": 217,
   "metadata": {},
   "outputs": [
    {
     "name": "stdout",
     "output_type": "stream",
     "text": [
      "  CodeA       NomPrenom  Genre  Taille  Poids\n",
      "0   A01         SALHI H  Homme     189     10\n",
      "1   A02   CHTOUROU Anas  Homme     169     20\n",
      "2   A03     ALOUI Najet  Femme     164     30\n",
      "3   A04    HILELI Fedwa  Femme     185     40\n",
      "4   A05   CHAABEN Hatem  Homme     152     50\n",
      "5   A06    TOUNSI Mahdi  Homme     170     60\n",
      "6   A07  BEN HMIDA Alia  Femme     165     70\n"
     ]
    }
   ],
   "source": [
    "import pandas as ps\n",
    "import matplotlib.pyplot as plt\n",
    "df=ps.read_csv(\"AthleteH.csv\")\n",
    "print(df)"
   ]
  },
  {
   "cell_type": "code",
   "execution_count": 218,
   "metadata": {},
   "outputs": [
    {
     "name": "stdout",
     "output_type": "stream",
     "text": [
      "(7, 5)\n"
     ]
    }
   ],
   "source": [
    "print(df.shape)"
   ]
  },
  {
   "cell_type": "code",
   "execution_count": 219,
   "metadata": {},
   "outputs": [
    {
     "name": "stdout",
     "output_type": "stream",
     "text": [
      "35\n"
     ]
    }
   ],
   "source": [
    "print (df.size)"
   ]
  },
  {
   "cell_type": "code",
   "execution_count": 220,
   "metadata": {},
   "outputs": [
    {
     "name": "stdout",
     "output_type": "stream",
     "text": [
      "  CodeA      NomPrenom  Genre  Taille  Poids\n",
      "0   A01        SALHI H  Homme     189     10\n",
      "1   A02  CHTOUROU Anas  Homme     169     20\n"
     ]
    }
   ],
   "source": [
    "print(df.head(2))"
   ]
  },
  {
   "cell_type": "code",
   "execution_count": 221,
   "metadata": {},
   "outputs": [
    {
     "name": "stdout",
     "output_type": "stream",
     "text": [
      "<class 'pandas.core.frame.DataFrame'>\n",
      "RangeIndex: 7 entries, 0 to 6\n",
      "Data columns (total 5 columns):\n",
      " #   Column     Non-Null Count  Dtype \n",
      "---  ------     --------------  ----- \n",
      " 0   CodeA      7 non-null      object\n",
      " 1   NomPrenom  7 non-null      object\n",
      " 2   Genre      7 non-null      object\n",
      " 3   Taille     7 non-null      int64 \n",
      " 4   Poids      7 non-null      int64 \n",
      "dtypes: int64(2), object(3)\n",
      "memory usage: 408.0+ bytes\n",
      "None\n"
     ]
    }
   ],
   "source": [
    "print(df.info())"
   ]
  },
  {
   "cell_type": "code",
   "execution_count": 222,
   "metadata": {},
   "outputs": [
    {
     "name": "stdout",
     "output_type": "stream",
     "text": [
      "  CodeA       NomPrenom  Genre  Taille  Poids\n",
      "6   A07  BEN HMIDA Alia  Femme     165     70\n"
     ]
    }
   ],
   "source": [
    "print(df.tail(1))"
   ]
  },
  {
   "cell_type": "code",
   "execution_count": 223,
   "metadata": {},
   "outputs": [
    {
     "name": "stdout",
     "output_type": "stream",
     "text": [
      "           Taille      Poids\n",
      "count    7.000000   7.000000\n",
      "mean   170.571429  40.000000\n",
      "std     12.712948  21.602469\n",
      "min    152.000000  10.000000\n",
      "25%    164.500000  25.000000\n",
      "50%    169.000000  40.000000\n",
      "75%    177.500000  55.000000\n",
      "max    189.000000  70.000000\n"
     ]
    }
   ],
   "source": [
    "print(df.describe())"
   ]
  },
  {
   "cell_type": "code",
   "execution_count": 224,
   "metadata": {},
   "outputs": [
    {
     "name": "stdout",
     "output_type": "stream",
     "text": [
      "40.0\n"
     ]
    }
   ],
   "source": [
    "c=df['Poids'].mean()\n",
    "print(c)"
   ]
  },
  {
   "cell_type": "code",
   "execution_count": 225,
   "metadata": {},
   "outputs": [
    {
     "name": "stdout",
     "output_type": "stream",
     "text": [
      "1194\n"
     ]
    }
   ],
   "source": [
    "somme=df['Taille'].sum()\n",
    "print(somme)"
   ]
  },
  {
   "cell_type": "code",
   "execution_count": 226,
   "metadata": {},
   "outputs": [
    {
     "name": "stdout",
     "output_type": "stream",
     "text": [
      "10\n"
     ]
    }
   ],
   "source": [
    "print(df.iloc[0,4])"
   ]
  },
  {
   "cell_type": "code",
   "execution_count": 227,
   "metadata": {},
   "outputs": [
    {
     "name": "stdout",
     "output_type": "stream",
     "text": [
      "CodeA                A03\n",
      "NomPrenom    ALOUI Najet\n",
      "Genre              Femme\n",
      "Taille               164\n",
      "Poids                 30\n",
      "Name: 2, dtype: object\n"
     ]
    }
   ],
   "source": [
    "print(df.iloc[2])"
   ]
  },
  {
   "cell_type": "code",
   "execution_count": 228,
   "metadata": {},
   "outputs": [
    {
     "name": "stdout",
     "output_type": "stream",
     "text": [
      "  CodeA      NomPrenom  Genre  Taille  Poids\n",
      "3   A04   HILELI Fedwa  Femme     185     40\n",
      "4   A05  CHAABEN Hatem  Homme     152     50\n",
      "5   A06   TOUNSI Mahdi  Homme     170     60\n"
     ]
    }
   ],
   "source": [
    "print(df.iloc[3:6])"
   ]
  },
  {
   "cell_type": "code",
   "execution_count": 229,
   "metadata": {},
   "outputs": [
    {
     "name": "stdout",
     "output_type": "stream",
     "text": [
      "  CodeA      NomPrenom  Genre  Taille  Poids\n",
      "0   A01        SALHI H  Homme     189     10\n",
      "1   A02  CHTOUROU Anas  Homme     169     20\n",
      "2   A03    ALOUI Najet  Femme     164     30\n"
     ]
    }
   ],
   "source": [
    "print(df.iloc[:3])"
   ]
  },
  {
   "cell_type": "code",
   "execution_count": 230,
   "metadata": {},
   "outputs": [
    {
     "name": "stdout",
     "output_type": "stream",
     "text": [
      "Index(['CodeA', 'NomPrenom', 'Genre', 'Taille', 'Poids'], dtype='object')\n"
     ]
    }
   ],
   "source": [
    "print(df.columns)"
   ]
  },
  {
   "cell_type": "code",
   "execution_count": 231,
   "metadata": {},
   "outputs": [
    {
     "name": "stdout",
     "output_type": "stream",
     "text": [
      "  CodeA       NomPrenom  Genre  Taille  Poids\n",
      "0   A01         SALHI H  Homme     189     10\n",
      "1   A02   CHTOUROU Anas  Homme     169     20\n",
      "2   A03     ALOUI Najet  Femme     164     30\n",
      "3   A04    HILELI Fedwa  Femme     185     40\n",
      "4   A05   CHAABEN Hatem  Homme      50     50\n",
      "5   A06    TOUNSI Mahdi  Homme     170     60\n",
      "6   A07  BEN HMIDA Alia  Femme     165     70\n"
     ]
    }
   ],
   "source": [
    "# Affecter la taille 50 à Hatem\n",
    "df.loc[4,'Taille']=50\n",
    "print(df)"
   ]
  },
  {
   "cell_type": "code",
   "execution_count": 232,
   "metadata": {},
   "outputs": [
    {
     "name": "stdout",
     "output_type": "stream",
     "text": [
      "  CodeA       NomPrenom  Genre  Taille  Poids\n",
      "0   A01         SALHI H  Homme     189     10\n",
      "1   A02   CHTOUROU Anas  Homme     169     20\n",
      "2   A03     ALOUI Najet  Femme     164     30\n",
      "3   A04    HILELI Fedwa  Femme     185     40\n",
      "5   A06    TOUNSI Mahdi  Homme     170     60\n",
      "6   A07  BEN HMIDA Alia  Femme     165     70\n"
     ]
    }
   ],
   "source": [
    "# Effacter la ligne numéro 4\n",
    "df=df.drop([4])\n",
    "print(df)"
   ]
  },
  {
   "cell_type": "code",
   "execution_count": 233,
   "metadata": {},
   "outputs": [
    {
     "name": "stdout",
     "output_type": "stream",
     "text": [
      "  CodeA       NomPrenom   Sexe  Taille  Poids\n",
      "0   A01         SALHI H  Homme     189     10\n",
      "1   A02   CHTOUROU Anas  Homme     169     20\n",
      "2   A03     ALOUI Najet  Femme     164     30\n",
      "3   A04    HILELI Fedwa  Femme     185     40\n",
      "5   A06    TOUNSI Mahdi  Homme     170     60\n",
      "6   A07  BEN HMIDA Alia  Femme     165     70\n"
     ]
    }
   ],
   "source": [
    "#  Transformer le nom de la colonne \"genre\" en \"sexe\"\n",
    "df=df.rename(columns={'Genre':'Sexe'})\n",
    "print(df)"
   ]
  },
  {
   "cell_type": "code",
   "execution_count": 234,
   "metadata": {},
   "outputs": [
    {
     "data": {
      "image/png": "[encoded data removed]",
      "text/plain": [
       "<Figure size 432x288 with 1 Axes>"
      ]
     },
     "metadata": {
      "needs_background": "light"
     },
     "output_type": "display_data"
    }
   ],
   "source": [
    "# dessiner la courbe avec la taille en x et poids en y\n",
    "# utiliser la couleur bleue\n",
    "df.plot.line(x='Poids',y='Taille',color='blue')\n",
    "plt.show()"
   ]
  }
 ],
 "metadata": {
  "interpreter": {
   "hash": "fc2642e9f64889c15fffccd06330ddf5dee9b5dd44c63f0e27822d8912090a75"
  },
  "kernelspec": {
   "display_name": "Python 3.9.4 64-bit",
   "language": "python",
   "name": "python3"
  },
  "language_info": {
   "codemirror_mode": {
    "name": "ipython",
    "version": 3
   },
   "file_extension": ".py",
   "mimetype": "text/x-python",
   "name": "python",
   "nbconvert_exporter": "python",
   "pygments_lexer": "ipython3",
   "version": "3.9.4"
  },
  "orig_nbformat": 4
 },
 "nbformat": 4,
 "nbformat_minor": 2
}

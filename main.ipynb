{
 "cells": [
  {
   "cell_type": "code",
   "execution_count": 11,
   "metadata": {},
   "outputs": [
    {
     "name": "stdout",
     "output_type": "stream",
     "text": [
      "  CodeA       NomPrenom  Genre  Taille  Poids\n",
      "0   A01         SALHI H  Homme     189     90\n",
      "1   A02   CHTOUROU Anas  Homme     169     65\n",
      "2   A03     ALOUI Najet  Femme     164     54\n",
      "3   A04    HILELI Fedwa  Femme     185    110\n",
      "4   A05   CHAABEN Hatem  Homme     152     42\n",
      "5   A06    TOUNSI Mahdi  Homme     170     88\n",
      "6   A07  BEN HMIDA Alia  Femme     165     60\n"
     ]
    }
   ],
   "source": [
    "import pandas as ps\n",
    "\n",
    "df=ps.read_csv(\"AthleteH.csv\")\n",
    "print(df)"
   ]
  },
  {
   "cell_type": "code",
   "execution_count": 12,
   "metadata": {},
   "outputs": [
    {
     "name": "stdout",
     "output_type": "stream",
     "text": [
      "(7, 5)\n"
     ]
    }
   ],
   "source": [
    "print(df.shape)"
   ]
  },
  {
   "cell_type": "code",
   "execution_count": null,
   "metadata": {},
   "outputs": [],
   "source": []
  }
 ],
 "metadata": {
  "interpreter": {
   "hash": "fc2642e9f64889c15fffccd06330ddf5dee9b5dd44c63f0e27822d8912090a75"
  },
  "kernelspec": {
   "display_name": "Python 3.9.4 64-bit",
   "language": "python",
   "name": "python3"
  },
  "language_info": {
   "codemirror_mode": {
    "name": "ipython",
    "version": 3
   },
   "file_extension": ".py",
   "mimetype": "text/x-python",
   "name": "python",
   "nbconvert_exporter": "python",
   "pygments_lexer": "ipython3",
   "version": "3.9.4"
  },
  "orig_nbformat": 4
 },
 "nbformat": 4,
 "nbformat_minor": 2
}
